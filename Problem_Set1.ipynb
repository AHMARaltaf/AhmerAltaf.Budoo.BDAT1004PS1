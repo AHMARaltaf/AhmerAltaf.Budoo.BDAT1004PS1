{
 "cells": [
  {
   "cell_type": "code",
   "execution_count": null,
   "id": "418baf2f",
   "metadata": {},
   "outputs": [],
   "source": [
    "Question 1: What data tyoe are the following: //C#\n"
   ]
  },
  {
   "cell_type": "code",
   "execution_count": null,
   "id": "5bceaf76",
   "metadata": {},
   "outputs": [],
   "source": [
    "5 - Int32\n",
    "5.0 - Double\n",
    "5>1 - Boolean\n",
    "'5' - Character\n",
    "5*2 - Int32\n",
    "'5'*2 - Int32\n",
    "'5'+'2' - Int32\n",
    "5/2 - Int32\n",
    "5%2 - Double\n",
    "{5,2,1} - List\n",
    "5 == 3 - Boolean\n",
    "Pi(the number) - Double"
   ]
  },
  {
   "cell_type": "code",
   "execution_count": null,
   "id": "a1bf09e4",
   "metadata": {},
   "outputs": [],
   "source": [
    "Question 2.a:How many letters are there in 'Supercalifragilisticexpialidocious'?  //C#"
   ]
  },
  {
   "cell_type": "code",
   "execution_count": 2,
   "id": "8522227f",
   "metadata": {},
   "outputs": [
    {
     "name": "stdout",
     "output_type": "stream",
     "text": [
      "34"
     ]
    }
   ],
   "source": [
    "string a =\"Supercalifragilisticexpialidocious\";\n",
    "int  c = a.Length;\n",
    "Console.Write(c);"
   ]
  },
  {
   "cell_type": "code",
   "execution_count": null,
   "id": "0f87e1cf",
   "metadata": {},
   "outputs": [],
   "source": [
    "Question 2.b:Does 'Supercalifragilisticexpialidocious' contain 'ice' as a substring? //C#"
   ]
  },
  {
   "cell_type": "code",
   "execution_count": 3,
   "id": "6a7e1c1a",
   "metadata": {},
   "outputs": [
    {
     "name": "stdout",
     "output_type": "stream",
     "text": [
      "Does string contain specified substring? True\n"
     ]
    }
   ],
   "source": [
    "String str = \"Supercalifragilisticexpialidocious\";\n",
    "String value = \"ice\";\n",
    "Boolean result = str.Contains(value);\n",
    "Console.WriteLine($\"Does string contain specified substring? {result}\");"
   ]
  },
  {
   "cell_type": "code",
   "execution_count": null,
   "id": "a330b547",
   "metadata": {},
   "outputs": [],
   "source": [
    "Question 2.c:Which of the following words is the longest:\n",
    "Supercalifragilisticexpialidocious, Honorificabilitudinitatibus, or Bababadalgharaghtakamminarronnkonn?  //C#\n"
   ]
  },
  {
   "cell_type": "code",
   "execution_count": 2,
   "id": "946c0d16",
   "metadata": {},
   "outputs": [
    {
     "name": "stdout",
     "output_type": "stream",
     "text": [
      "Length of string Supercalifragilisticexpialidocious = 34\n",
      "Length of string Honorificabilitudinitatibus = 27\n",
      "Length of string Bababadalgharaghtakamminarronnkonn = 34\n",
      "These strings are longest : Supercalifragilisticexpialidocious & Bababadalgharaghtakamminarronnkonn"
     ]
    }
   ],
   "source": [
    "string a=\"Supercalifragilisticexpialidocious\";\n",
    "int  k = a.Length;\n",
    "Console.WriteLine($\"Length of string {a} = {k}\");\n",
    "string b=\"Honorificabilitudinitatibus\";\n",
    "int  l = b.Length;\n",
    "Console.WriteLine($\"Length of string {b} = {l}\");\n",
    "string c=\"Bababadalgharaghtakamminarronnkonn\";\n",
    "int  m = c.Length;\n",
    "Console.WriteLine($\"Length of string {c} = {m}\");\n",
    "\n",
    "if (k>l)\n",
    "{\n",
    "    if(k>m)\n",
    "    {\n",
    "    Console.Write($\"Longest String is : {a}\");\n",
    "    }\n",
    "    else if(k<m)\n",
    "    {\n",
    "    Console.Write($\"Longest String is : {c}\");\n",
    "    }\n",
    "    else\n",
    "    {\n",
    "    Console.Write($\"These strings are longest : {a} & {c}\");\n",
    "    }\n",
    "}\n",
    "else if (l>m)\n",
    "{\n",
    "    {\n",
    "    Console.Write($\"Longest String is : {b}\");\n",
    "    }\n",
    "}\n",
    "else if (m>l)\n",
    "{\n",
    "    {\n",
    "    Console.Write($\"Longest String is : {c}\");\n",
    "    }\n",
    "}\n",
    "else if (m == l && l != k)\n",
    "{\n",
    "    {\n",
    "    Console.Write($\"These strings are longest : {b} & {c}\");\n",
    "    }\n",
    "} \n",
    "else if (k == m  && m == l)\n",
    "{\n",
    "    {\n",
    "    Console.Write(\"All strings are of equal length\");\n",
    "    }\n",
    "}"
   ]
  },
  {
   "cell_type": "code",
   "execution_count": null,
   "id": "9c9eb968",
   "metadata": {},
   "outputs": [],
   "source": [
    "Question 2.d:Which composer comes first in the dictionary: 'Berlioz', 'Borodin', 'Brian', 'Bartok', 'Bellini', 'Buxtehude', 'Bernstein'. Which one comes last?  //C#"
   ]
  },
  {
   "cell_type": "code",
   "execution_count": 6,
   "id": "7dd1a056",
   "metadata": {},
   "outputs": [
    {
     "name": "stdout",
     "output_type": "stream",
     "text": [
      "First Composer to be taken out is : Bartok\n",
      "Last Composer to be taken out is : Buxtehude\n"
     ]
    }
   ],
   "source": [
    "var names = new List<string>();\n",
    "           names.Add(\"Berlioz\");\n",
    "           names.Add(\"Borodin\");\n",
    "           names.Add(\"Brian\");\n",
    "           names.Add(\"Bartok\");\n",
    "           names.Add(\"Bellini\");\n",
    "           names.Add(\"Buxtehude\");\n",
    "           names.Add(\"Bernstein\");\n",
    "           \n",
    "names.Sort();\n",
    "Console.WriteLine($\"First Composer to be taken out is : {names[0]}\");\n",
    "int x;\n",
    "x = names.Count();\n",
    "Console.WriteLine($\"Last Composer to be taken out is : {names[x-1]}\");"
   ]
  },
  {
   "cell_type": "code",
   "execution_count": null,
   "id": "adcdb594",
   "metadata": {},
   "outputs": [],
   "source": [
    "Question 3: Area of Triangle (2,2,2) //C#"
   ]
  },
  {
   "cell_type": "code",
   "execution_count": 5,
   "id": "c026da57",
   "metadata": {},
   "outputs": [
    {
     "name": "stdout",
     "output_type": "stream",
     "text": [
      "1.7320508075688772\n"
     ]
    }
   ],
   "source": [
    "double s, area;\n",
    "double a, b, c;\n",
    "a = 2;\n",
    "b = 2;\n",
    "c = 2;\n",
    "s = (a + b + c) / 2;\n",
    "area = Math.Sqrt(s * (s - a) * (s - b) * (s - c));\n",
    "Console.WriteLine(area);\n"
   ]
  },
  {
   "cell_type": "code",
   "execution_count": null,
   "id": "5127c860",
   "metadata": {},
   "outputs": [],
   "source": [
    "Question 4: Odd and Even Seperator  //C#"
   ]
  },
  {
   "cell_type": "code",
   "execution_count": 7,
   "id": "9f585fe6",
   "metadata": {},
   "outputs": [
    {
     "name": "stdout",
     "output_type": "stream",
     "text": [
      "The Even elements are: \n",
      "42\n",
      "56\n",
      "32\n",
      "The Odd elements are: \n",
      "25\n",
      "47\n"
     ]
    }
   ],
   "source": [
    "int[] ran = new int[] \n",
    "{\n",
    "25,\n",
    "47,\n",
    "42,\n",
    "56,\n",
    "32\n",
    "};\n",
    "\n",
    "int[] even = new int[5];\n",
    "int[] odd = new int[5];\n",
    "int i, j = 0, k = 0;\n",
    "for (i = 0; i < 5; i++) \n",
    "   {\n",
    "     if (ran[i] % 2 == 0) \n",
    "        {\n",
    "         even[j] = ran[i];\n",
    "         j++;\n",
    "         } \n",
    "    else \n",
    "        {\n",
    "        odd[k] = ran[i];\n",
    "        k++;\n",
    "        }\n",
    "    }\n",
    "Console.WriteLine(\"The Even elements are: \");\n",
    "for (i = 0; i < j; i++) \n",
    "    {\n",
    "     Console.WriteLine(even[i]);\n",
    "    }\n",
    "Console.WriteLine(\"The Odd elements are: \");\n",
    "for (i = 0; i < k; i++) \n",
    "    {\n",
    "     Console.WriteLine(odd[i]);\n",
    "    }"
   ]
  },
  {
   "cell_type": "code",
   "execution_count": null,
   "id": "e9294b14",
   "metadata": {},
   "outputs": [],
   "source": [
    "Question 5: Write a function inside (x, y, xl , y 1, x2 , y 2) that returns True or False //C#"
   ]
  },
  {
   "cell_type": "code",
   "execution_count": null,
   "id": "b5e13dc3",
   "metadata": {},
   "outputs": [],
   "source": [
    "5.a:- inside(1,1,0,0,2,3), inside(-1,-1,0,0,2,3)"
   ]
  },
  {
   "cell_type": "code",
   "execution_count": 9,
   "id": "2ba068c3",
   "metadata": {},
   "outputs": [
    {
     "name": "stdout",
     "output_type": "stream",
     "text": [
      "True\n",
      "False\n"
     ]
    }
   ],
   "source": [
    "static bool inside(double x, double y, double x1, double y1, double x2, double y2)\n",
    "{\n",
    "    if (x >= x1 && x <= x2 && y >= y1 && y <= y2)\n",
    "    { \n",
    "        Console.WriteLine(\"True\");\n",
    "        return true;\n",
    "    }\n",
    "    else\n",
    "    {\n",
    "        Console.WriteLine(\"False\");\n",
    "        return false;\n",
    "    }\n",
    "}\n",
    "\n",
    "bool expr = inside(1, 1, 0, 0, 2, 3);\n",
    "bool expr2 = inside(-1, -1, 0, 0, 2, 3);"
   ]
  },
  {
   "cell_type": "code",
   "execution_count": null,
   "id": "b8aaa5f2",
   "metadata": {},
   "outputs": [],
   "source": [
    "5.b:- inside(1,1,0.3,0.5,1.1,0.7), inside(1,1,0.5,0.2,1.1,2)"
   ]
  },
  {
   "cell_type": "code",
   "execution_count": 10,
   "id": "0ec0fda8",
   "metadata": {},
   "outputs": [
    {
     "name": "stdout",
     "output_type": "stream",
     "text": [
      "False\n",
      "True\n"
     ]
    }
   ],
   "source": [
    "static bool inside(double x, double y, double x1, double y1, double x2, double y2)\n",
    "{\n",
    "    if (x >= x1 && x <= x2 && y >= y1 && y <= y2)\n",
    "    { \n",
    "        Console.WriteLine(\"True\");\n",
    "        return true;\n",
    "    }\n",
    "    else\n",
    "    {\n",
    "        Console.WriteLine(\"False\");\n",
    "        return false;\n",
    "    }\n",
    "}\n",
    "\n",
    "bool expr = inside(1, 1, 0.3, 0.5, 1.1, 0.7);\n",
    "bool expr2 = inside(1, 1, 0.5, 0.2, 1.1, 2);"
   ]
  },
  {
   "cell_type": "code",
   "execution_count": null,
   "id": "0ae7d513",
   "metadata": {},
   "outputs": [],
   "source": []
  }
 ],
 "metadata": {
  "kernelspec": {
   "display_name": ".NET (C#)",
   "language": "C#",
   "name": ".net-csharp"
  },
  "language_info": {
   "file_extension": ".cs",
   "mimetype": "text/x-csharp",
   "name": "C#",
   "pygments_lexer": "csharp",
   "version": "8.0"
  }
 },
 "nbformat": 4,
 "nbformat_minor": 5
}
